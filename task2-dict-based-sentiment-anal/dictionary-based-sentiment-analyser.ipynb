{
 "metadata": {
  "language_info": {
   "codemirror_mode": {
    "name": "ipython",
    "version": 3
   },
   "file_extension": ".py",
   "mimetype": "text/x-python",
   "name": "python",
   "nbconvert_exporter": "python",
   "pygments_lexer": "ipython3",
   "version": "3.7.4-final"
  },
  "orig_nbformat": 2,
  "kernelspec": {
   "name": "Python 3.7.4 64-bit ('base': conda)",
   "display_name": "Python 3.7.4 64-bit ('base': conda)",
   "metadata": {
    "interpreter": {
     "hash": "dca0ade3e726a953b501b15e8e990130d2b7799f14cfd9f4271676035ebe5511"
    }
   }
  }
 },
 "nbformat": 4,
 "nbformat_minor": 2,
 "cells": [
  {
   "source": [
    "## Creating a Dictionary-based Sentiment Analyzer"
   ],
   "cell_type": "markdown",
   "metadata": {}
  },
  {
   "source": [
    "Given the small corpus (reviews textual dataset) generated in task 1, the objective is to construct a dictionary-based sentiment analyser.\n",
    "<br>\n",
    "<br>\n",
    "Some of the lessons taught during these tasks:\n",
    "* Word and sentence tokenization \n",
    "* Review score classification \n",
    "* Insights surrounding score and review comparisons \n",
    "* Correlation analysis surrounding review groups \n",
    "* Accounting for negation within sentiment analyser\n",
    "\n"
   ],
   "cell_type": "markdown",
   "metadata": {}
  },
  {
   "cell_type": "code",
   "execution_count": 3,
   "metadata": {},
   "outputs": [],
   "source": [
    "## Necessary imports needed for analysis \n",
    "import pandas as pd \n",
    "import numpy as np \n",
    "import os, pathlib"
   ]
  },
  {
   "source": [
    "### Load small corpus dataset"
   ],
   "cell_type": "markdown",
   "metadata": {}
  },
  {
   "cell_type": "code",
   "execution_count": 4,
   "metadata": {},
   "outputs": [],
   "source": [
    "# Move back into task1 repo where review (small) corpus is located\n",
    "path = pathlib.Path().home()/'Desktop/nlp-map-project/task1-create-dataset'\n",
    "try:\n",
    "    path = os.chdir(path) \n",
    "except FileNotFoundError as a :\n",
    "    print('Already in directory/folder, carry on!')"
   ]
  },
  {
   "cell_type": "code",
   "execution_count": 6,
   "metadata": {},
   "outputs": [],
   "source": [
    "df = pd.read_csv('small_corpus.csv')"
   ]
  },
  {
   "cell_type": "code",
   "execution_count": null,
   "metadata": {},
   "outputs": [],
   "source": []
  }
 ]
}