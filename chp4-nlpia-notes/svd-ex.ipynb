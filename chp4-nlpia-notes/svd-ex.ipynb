{
 "metadata": {
  "language_info": {
   "codemirror_mode": {
    "name": "ipython",
    "version": 3
   },
   "file_extension": ".py",
   "mimetype": "text/x-python",
   "name": "python",
   "nbconvert_exporter": "python",
   "pygments_lexer": "ipython3",
   "version": "3.7.4-final"
  },
  "orig_nbformat": 2,
  "kernelspec": {
   "name": "python37464bitbaseconda572c238c43e2438fb8a17e4e11af0079",
   "display_name": "Python 3.7.4 64-bit ('base': conda)"
  }
 },
 "nbformat": 4,
 "nbformat_minor": 2,
 "cells": [
  {
   "cell_type": "markdown",
   "metadata": {},
   "source": [
    "## Singular Value Decomposition (SVD)"
   ]
  },
  {
   "cell_type": "markdown",
   "metadata": {},
   "source": [
    "SVD is the core algorithm behind LSA.\n",
    "<br>\n",
    "As an instance, start with a corpus containing 11 documents and a vocabulary of 6 words:"
   ]
  },
  {
   "cell_type": "code",
   "execution_count": 7,
   "metadata": {},
   "outputs": [],
   "source": [
    "from nlpia.book.examples.ch04_catdog_lsa_sorted import lsa_models, prettify_tdm"
   ]
  },
  {
   "cell_type": "code",
   "execution_count": 8,
   "metadata": {
    "tags": []
   },
   "outputs": [
    {
     "output_type": "stream",
     "name": "stderr",
     "text": "100%|██████████| 263/263 [00:00<00:00, 202404.03it/s]\n"
    },
    {
     "output_type": "execute_result",
     "data": {
      "text/plain": "   cat dog apple lion nyc love                                             text\n0              1        1                                 NYC is the Big Apple.\n1              1        1                        NYC is known as the Big Apple.\n2                       1    1                                      I love NYC!\n3              1        1           I wore a hat to the Big Apple party in NYC.\n4              1        1                       Come to NYC. See the Big Apple!\n5              1                             Manhattan is called the Big Apple.\n6    1                                  New York is a big city for a small cat.\n7    1              1           The lion, a big cat, is the king of the jungle.\n8    1                       1                               I love my pet cat.\n9                       1    1                      I love New York City (NYC).\n10   1   1                                              Your dog chased my cat.",
      "text/html": "<div>\n<style scoped>\n    .dataframe tbody tr th:only-of-type {\n        vertical-align: middle;\n    }\n\n    .dataframe tbody tr th {\n        vertical-align: top;\n    }\n\n    .dataframe thead th {\n        text-align: right;\n    }\n</style>\n<table border=\"1\" class=\"dataframe\">\n  <thead>\n    <tr style=\"text-align: right;\">\n      <th></th>\n      <th>cat</th>\n      <th>dog</th>\n      <th>apple</th>\n      <th>lion</th>\n      <th>nyc</th>\n      <th>love</th>\n      <th>text</th>\n    </tr>\n  </thead>\n  <tbody>\n    <tr>\n      <th>0</th>\n      <td></td>\n      <td></td>\n      <td>1</td>\n      <td></td>\n      <td>1</td>\n      <td></td>\n      <td>NYC is the Big Apple.</td>\n    </tr>\n    <tr>\n      <th>1</th>\n      <td></td>\n      <td></td>\n      <td>1</td>\n      <td></td>\n      <td>1</td>\n      <td></td>\n      <td>NYC is known as the Big Apple.</td>\n    </tr>\n    <tr>\n      <th>2</th>\n      <td></td>\n      <td></td>\n      <td></td>\n      <td></td>\n      <td>1</td>\n      <td>1</td>\n      <td>I love NYC!</td>\n    </tr>\n    <tr>\n      <th>3</th>\n      <td></td>\n      <td></td>\n      <td>1</td>\n      <td></td>\n      <td>1</td>\n      <td></td>\n      <td>I wore a hat to the Big Apple party in NYC.</td>\n    </tr>\n    <tr>\n      <th>4</th>\n      <td></td>\n      <td></td>\n      <td>1</td>\n      <td></td>\n      <td>1</td>\n      <td></td>\n      <td>Come to NYC. See the Big Apple!</td>\n    </tr>\n    <tr>\n      <th>5</th>\n      <td></td>\n      <td></td>\n      <td>1</td>\n      <td></td>\n      <td></td>\n      <td></td>\n      <td>Manhattan is called the Big Apple.</td>\n    </tr>\n    <tr>\n      <th>6</th>\n      <td>1</td>\n      <td></td>\n      <td></td>\n      <td></td>\n      <td></td>\n      <td></td>\n      <td>New York is a big city for a small cat.</td>\n    </tr>\n    <tr>\n      <th>7</th>\n      <td>1</td>\n      <td></td>\n      <td></td>\n      <td>1</td>\n      <td></td>\n      <td></td>\n      <td>The lion, a big cat, is the king of the jungle.</td>\n    </tr>\n    <tr>\n      <th>8</th>\n      <td>1</td>\n      <td></td>\n      <td></td>\n      <td></td>\n      <td></td>\n      <td>1</td>\n      <td>I love my pet cat.</td>\n    </tr>\n    <tr>\n      <th>9</th>\n      <td></td>\n      <td></td>\n      <td></td>\n      <td></td>\n      <td>1</td>\n      <td>1</td>\n      <td>I love New York City (NYC).</td>\n    </tr>\n    <tr>\n      <th>10</th>\n      <td>1</td>\n      <td>1</td>\n      <td></td>\n      <td></td>\n      <td></td>\n      <td></td>\n      <td>Your dog chased my cat.</td>\n    </tr>\n  </tbody>\n</table>\n</div>"
     },
     "metadata": {},
     "execution_count": 8
    }
   ],
   "source": [
    "bow_svd, tfidf_svd = lsa_models()\n",
    "prettify_tdm(**bow_svd)"
   ]
  },
  {
   "cell_type": "markdown",
   "metadata": {},
   "source": [
    "The above matrix shown is a document-term matrix (dtm) where each row is a vector of the BOW for a document.\n",
    "* Interpretation - The sorting algorithm and the limited vocabulary created several identical BOW vectors (NYC, apple)\n",
    "* SVD operations - SVD should be able to notice this and allocate a topic to such pair of words\n"
   ]
  },
  {
   "cell_type": "markdown",
   "metadata": {},
   "source": [
    "Furthermore, we can use SVD on the term-document matrix (tdm) - the transposition of a dtm - where it can work on TF-IDF matrices or any other vector space model:"
   ]
  },
  {
   "cell_type": "code",
   "execution_count": 9,
   "metadata": {},
   "outputs": [
    {
     "output_type": "execute_result",
     "data": {
      "text/plain": "       0  1  2  3  4  5  6  7  8  9  10\ncat    0  0  0  0  0  0  1  1  1  0   1\ndog    0  0  0  0  0  0  0  0  0  0   1\napple  1  1  0  1  1  1  0  0  0  0   0\nlion   0  0  0  0  0  0  0  1  0  0   0\nnyc    1  1  1  1  1  0  0  0  0  1   0\nlove   0  0  1  0  0  0  0  0  1  1   0",
      "text/html": "<div>\n<style scoped>\n    .dataframe tbody tr th:only-of-type {\n        vertical-align: middle;\n    }\n\n    .dataframe tbody tr th {\n        vertical-align: top;\n    }\n\n    .dataframe thead th {\n        text-align: right;\n    }\n</style>\n<table border=\"1\" class=\"dataframe\">\n  <thead>\n    <tr style=\"text-align: right;\">\n      <th></th>\n      <th>0</th>\n      <th>1</th>\n      <th>2</th>\n      <th>3</th>\n      <th>4</th>\n      <th>5</th>\n      <th>6</th>\n      <th>7</th>\n      <th>8</th>\n      <th>9</th>\n      <th>10</th>\n    </tr>\n  </thead>\n  <tbody>\n    <tr>\n      <th>cat</th>\n      <td>0</td>\n      <td>0</td>\n      <td>0</td>\n      <td>0</td>\n      <td>0</td>\n      <td>0</td>\n      <td>1</td>\n      <td>1</td>\n      <td>1</td>\n      <td>0</td>\n      <td>1</td>\n    </tr>\n    <tr>\n      <th>dog</th>\n      <td>0</td>\n      <td>0</td>\n      <td>0</td>\n      <td>0</td>\n      <td>0</td>\n      <td>0</td>\n      <td>0</td>\n      <td>0</td>\n      <td>0</td>\n      <td>0</td>\n      <td>1</td>\n    </tr>\n    <tr>\n      <th>apple</th>\n      <td>1</td>\n      <td>1</td>\n      <td>0</td>\n      <td>1</td>\n      <td>1</td>\n      <td>1</td>\n      <td>0</td>\n      <td>0</td>\n      <td>0</td>\n      <td>0</td>\n      <td>0</td>\n    </tr>\n    <tr>\n      <th>lion</th>\n      <td>0</td>\n      <td>0</td>\n      <td>0</td>\n      <td>0</td>\n      <td>0</td>\n      <td>0</td>\n      <td>0</td>\n      <td>1</td>\n      <td>0</td>\n      <td>0</td>\n      <td>0</td>\n    </tr>\n    <tr>\n      <th>nyc</th>\n      <td>1</td>\n      <td>1</td>\n      <td>1</td>\n      <td>1</td>\n      <td>1</td>\n      <td>0</td>\n      <td>0</td>\n      <td>0</td>\n      <td>0</td>\n      <td>1</td>\n      <td>0</td>\n    </tr>\n    <tr>\n      <th>love</th>\n      <td>0</td>\n      <td>0</td>\n      <td>1</td>\n      <td>0</td>\n      <td>0</td>\n      <td>0</td>\n      <td>0</td>\n      <td>0</td>\n      <td>1</td>\n      <td>1</td>\n      <td>0</td>\n    </tr>\n  </tbody>\n</table>\n</div>"
     },
     "metadata": {},
     "execution_count": 9
    }
   ],
   "source": [
    "tdm = bow_svd['tdm']\n",
    "tdm"
   ]
  },
  {
   "cell_type": "markdown",
   "metadata": {},
   "source": [
    "SVD is an algorithm for decomposing any matrix into three factors - three matrices that can be multiplied together to recreate the original matrix.\n",
    "* Purpose - The three matrix factors computed with SVD contain some convenient mathematical properties we can exploit for dimension reduction and LSA. LSA will be used to figure out topics (group of related words) need to be"
   ]
  },
  {
   "cell_type": "markdown",
   "metadata": {},
   "source": [
    "Whether we run SVD on a word vector represention (BOW or TFIDF term-document matrices), SVD will find combinations of words that belong together \n",
    "* Process - SVD finds those co-occurring words by calculating the correlation between the columns (terms) of our term-document matrix\n",
    "* Computation - SVD simultaneously finds the correlation of term use between documents and the correlation of documents with each other, additionally computing the linear combinations of terms that have the greatest variation across the corpus\n",
    "* Filtering and dimensions reduction - We'll only keep those topics that retain the most information i.e. the most variance in our corpus\n",
    "* Transformation - SVD gives us the linear transformation (rotation) of our term-document vectors to convert those vectors into shorter topic vectors for each document"
   ]
  },
  {
   "cell_type": "markdown",
   "metadata": {},
   "source": [
    "SVD will group together terms that have high correlation with each other (given they appear in the same documents together frequently) and also vary together a lot over the set of documents.\n",
    "<br>\n",
    "These linear combinations of words are seen as 'topics'.\n",
    "<br>\n",
    "These topics that turn our BOW/TF-IDF vectors into topic vectors that tell us the topics a document is about.\n",
    "<br>\n",
    "A topic vector provides a summarization or generalization of what the document is about."
   ]
  },
  {
   "cell_type": "markdown",
   "metadata": {},
   "source": [
    "In mathematical terms, SVD like this:\n",
    "<br>\n",
    "<br>\n",
    "$W_{mxn}$ &#8594; $U_{mxp}$$S_{pxp}$$V_{pxn}$$^{T}$"
   ]
  },
  {
   "cell_type": "markdown",
   "metadata": {},
   "source": [
    "* $m$ - The number of terms in one's vocabulary \n",
    "* $n$ - The number of documents in a corpus \n",
    "* $p$ - The number of topics in a corpus i.e. the number of words \n",
    "\n",
    "We want to eventually end up with fewer topics than words, so we can use those topic vectors (rows of topic-document matrix) as a reduced-dimension representation of the original TF-IDF vectors. \n",
    "<br>\n",
    "But currently in this example as a first stage, we retain all the dimensions in our matrices.\n",
    "<br>\n",
    "It's key to uncover what these three matrices (U, S and V) look like."
   ]
  },
  {
   "cell_type": "code",
   "execution_count": null,
   "metadata": {},
   "outputs": [],
   "source": []
  }
 ]
}